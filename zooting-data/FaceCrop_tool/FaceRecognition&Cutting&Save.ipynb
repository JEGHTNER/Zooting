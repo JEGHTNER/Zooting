{
 "cells": [
  {
   "cell_type": "markdown",
   "id": "c547e639",
   "metadata": {},
   "source": [
    "### Import Libraries"
   ]
  },
  {
   "cell_type": "code",
   "execution_count": 83,
   "id": "0669e4ad",
   "metadata": {},
   "outputs": [],
   "source": [
    "import cv2\n",
    "import numpy as np\n",
    "import os"
   ]
  },
  {
   "cell_type": "markdown",
   "id": "dde98058",
   "metadata": {},
   "source": [
    "### Set path"
   ]
  },
  {
   "cell_type": "code",
   "execution_count": 84,
   "id": "7c41b943",
   "metadata": {},
   "outputs": [],
   "source": [
    "path_dir = \"images/faces/\"\n",
    "file_list = os.listdir(path_dir)"
   ]
  },
  {
   "cell_type": "markdown",
   "id": "97e5f48b",
   "metadata": {},
   "source": [
    "### Cutting Images"
   ]
  },
  {
   "cell_type": "code",
   "execution_count": 86,
   "id": "97a412c2",
   "metadata": {},
   "outputs": [],
   "source": [
    "file_name_list = []\n",
    "\n",
    "for i in range(len(file_list)):\n",
    "    file_name_list.append(file_list[i].replace(\".jpg\",\"\"))"
   ]
  },
  {
   "cell_type": "code",
   "execution_count": 88,
   "id": "81f8138f",
   "metadata": {},
   "outputs": [],
   "source": [
    "def Cutting_face_save(image, name):\n",
    "    face_cascade = cv2.CascadeClassifier('models/haarcascade_frontalface_default.xml')\n",
    "    gray = cv2.cvtColor(image, cv2.COLOR_BGR2GRAY)\n",
    "    faces = face_cascade.detectMultiScale(gray, 1.3, 5)\n",
    "    for (x,y,w,h) in faces:\n",
    "        cropped = image[y: y+h, x: x+w]\n",
    "        resize = cv2.resize(cropped, (180,180))\n",
    "\n",
    "        # 이미지 저장하기\n",
    "        cv2.imwrite(f\"images/cutting_faces/{name}.jpg\", resize)"
   ]
  },
  {
   "cell_type": "code",
   "execution_count": 89,
   "id": "24b61884",
   "metadata": {},
   "outputs": [],
   "source": [
    "for name in file_name_list:\n",
    "    try:\n",
    "        img = cv2.imread(\"images/faces/\"+name+\".jpg\")\n",
    "        Cutting_face_save(img, name)\n",
    "    except:\n",
    "        pass"
   ]
  }
 ],
 "metadata": {
  "kernelspec": {
   "display_name": "Python 3 (ipykernel)",
   "language": "python",
   "name": "python3"
  },
  "language_info": {
   "codemirror_mode": {
    "name": "ipython",
    "version": 3
   },
   "file_extension": ".py",
   "mimetype": "text/x-python",
   "name": "python",
   "nbconvert_exporter": "python",
   "pygments_lexer": "ipython3",
   "version": "3.9.13"
  }
 },
 "nbformat": 4,
 "nbformat_minor": 5
}
